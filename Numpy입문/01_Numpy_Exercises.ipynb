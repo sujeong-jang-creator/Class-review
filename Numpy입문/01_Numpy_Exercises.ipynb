{
 "cells": [
  {
   "cell_type": "markdown",
   "metadata": {
    "capter": null,
    "cell_hash": "3077231f0f6748f5a67efaf7c2f8e634",
    "q_num": 0,
    "section_id": -1,
    "tags": [
     "header"
    ]
   },
   "source": [
    "# Numpy연습문제\n",
    "\n",
    "* version:2021.6.11"
   ]
  },
  {
   "cell_type": "markdown",
   "metadata": {
    "capter": 1,
    "cell_hash": "cc790edb10ef4115b37ea79346ad4ba0",
    "q_num": 1,
    "section_id": 0,
    "tags": [
     "q"
    ]
   },
   "source": [
    "#### Q:1-1\n",
    "`np` 라는 이름으로 numpy를 import하시오"
   ]
  },
  {
   "cell_type": "code",
   "execution_count": 1,
   "metadata": {
    "capter": 1,
    "cell_hash": "3c7e50b8e14c495d975eede13e9a764f",
    "q_num": 1,
    "section_id": 0,
    "tags": [
     "ya"
    ]
   },
   "outputs": [],
   "source": [
    "import "
   ]
  },
  {
   "cell_type": "markdown",
   "metadata": {
    "capter": 1,
    "cell_hash": "ea879d65729c45838626157fa906433c",
    "q_num": 2,
    "section_id": 1,
    "tags": [
     "q"
    ]
   },
   "source": [
    "#### Q:1-2\n",
    "값이 0이고 사이즈 10의 배열(numpy.ndarray)를 작성하시오(a1_2)  \n",
    "(hint: np.zeros)\n",
    "\n",
    "【참고】 \n",
    "Numpy입문.ipynb#0-배열 만들기  \n",
    "https://docs.scipy.org/doc/numpy/reference/generated/numpy.zeros.html"
   ]
  },
  {
   "cell_type": "code",
   "execution_count": 2,
   "metadata": {
    "capter": 1,
    "cell_hash": "50869e9ab5f647a0a46fdd350be3c2b1",
    "q_num": 2,
    "section_id": 1,
    "tags": [
     "ya"
    ]
   },
   "outputs": [
    {
     "data": {
      "text/plain": [
       "array([0., 0., 0., 0., 0., 0., 0., 0., 0., 0.])"
      ]
     },
     "execution_count": 2,
     "metadata": {},
     "output_type": "execute_result"
    }
   ],
   "source": [
    "\n",
    "a1_2"
   ]
  },
  {
   "cell_type": "markdown",
   "metadata": {
    "capter": 1,
    "cell_hash": "b74e52d0d6ac43e78f7686263b4fd02e",
    "q_num": 3,
    "section_id": 2,
    "tags": [
     "q"
    ]
   },
   "source": [
    "#### Q:1-3\n",
    "값이 0이고 10x10의 배열을 작성하고(a1_3) 메모리 사이즈를 확인(b1_3)하시오\n",
    "\n",
    "【참고】 https://docs.scipy.org/doc/numpy/reference/generated/numpy.ndarray.nbytes.html"
   ]
  },
  {
   "cell_type": "code",
   "execution_count": 3,
   "metadata": {
    "capter": 1,
    "cell_hash": "ec8c83ecd9c7443e95186632a51e4b19",
    "q_num": 3,
    "section_id": 2,
    "tags": [
     "ya"
    ]
   },
   "outputs": [
    {
     "name": "stdout",
     "output_type": "stream",
     "text": [
      "800\n"
     ]
    }
   ],
   "source": [
    "\n",
    "print(b1_3)"
   ]
  },
  {
   "cell_type": "markdown",
   "metadata": {
    "capter": 1,
    "cell_hash": "3a40211b4b954349babbb6cecd80934c",
    "q_num": 4,
    "section_id": 3,
    "tags": [
     "q"
    ]
   },
   "source": [
    "#### Q:1-4\n",
    "갑이 0이고 사이즈가 10인 배열을 만들고(a1_4)、다섯번째 값을 1을 넣으시오\n",
    "\n",
    "【참고】 Numpy입문.ipynb #index 지정"
   ]
  },
  {
   "cell_type": "code",
   "execution_count": 4,
   "metadata": {
    "capter": 1,
    "cell_hash": "e1f05dcd2e904d349bccd45c6e2aea55",
    "q_num": 4,
    "section_id": 3,
    "tags": [
     "ya"
    ]
   },
   "outputs": [
    {
     "data": {
      "text/plain": [
       "array([0., 0., 0., 0., 1., 0., 0., 0., 0., 0.])"
      ]
     },
     "execution_count": 4,
     "metadata": {},
     "output_type": "execute_result"
    }
   ],
   "source": [
    "\n",
    "\n",
    "a1_4"
   ]
  },
  {
   "cell_type": "markdown",
   "metadata": {
    "capter": 1,
    "cell_hash": "ed01df2403d34bb697ab86533dfb0e30",
    "q_num": 5,
    "section_id": 4,
    "tags": [
     "q"
    ]
   },
   "source": [
    "#### Q:1-5\n",
    "10부터 49까지의 정수로 이루어진 배열(a1_5)을 작성하시오  \n",
    "(hint: np.arange)\n",
    "\n",
    "【참고】 https://docs.scipy.org/doc/numpy-1.16.0/reference/generated/numpy.arange.html"
   ]
  },
  {
   "cell_type": "code",
   "execution_count": 5,
   "metadata": {
    "capter": 1,
    "cell_hash": "1f707a263c3348eaada82e8c1209f545",
    "q_num": 5,
    "section_id": 4,
    "tags": [
     "ya"
    ]
   },
   "outputs": [
    {
     "data": {
      "text/plain": [
       "array([10, 11, 12, 13, 14, 15, 16, 17, 18, 19, 20, 21, 22, 23, 24, 25, 26,\n",
       "       27, 28, 29, 30, 31, 32, 33, 34, 35, 36, 37, 38, 39, 40, 41, 42, 43,\n",
       "       44, 45, 46, 47, 48, 49])"
      ]
     },
     "execution_count": 5,
     "metadata": {},
     "output_type": "execute_result"
    }
   ],
   "source": [
    "\n",
    "a1_5"
   ]
  },
  {
   "cell_type": "markdown",
   "metadata": {
    "capter": 1,
    "cell_hash": "dbeadb0aa2274887866517679c34f53b",
    "q_num": 6,
    "section_id": 5,
    "tags": [
     "q"
    ]
   },
   "source": [
    "#### Q:1-6\n",
    "Q:1-5 에서 작성한 배열의 역순의 배열을 작성하시오(a1_6)\n",
    "\n",
    "【참고】 \n",
    "Numpy입문.ipynb #index 범위로 호출\n",
    "https://docs.scipy.org/doc/numpy-1.16.0/reference/arrays.indexing.html#basic-slicing-and-indexing"
   ]
  },
  {
   "cell_type": "code",
   "execution_count": 6,
   "metadata": {
    "capter": 1,
    "cell_hash": "e8b367eb54fe45af9f09221d7afa00f9",
    "q_num": 6,
    "section_id": 5,
    "tags": [
     "ya"
    ]
   },
   "outputs": [
    {
     "data": {
      "text/plain": [
       "array([49, 48, 47, 46, 45, 44, 43, 42, 41, 40, 39, 38, 37, 36, 35, 34, 33,\n",
       "       32, 31, 30, 29, 28, 27, 26, 25, 24, 23, 22, 21, 20, 19, 18, 17, 16,\n",
       "       15, 14, 13, 12, 11, 10])"
      ]
     },
     "execution_count": 6,
     "metadata": {},
     "output_type": "execute_result"
    }
   ],
   "source": [
    "\n",
    "a1_6"
   ]
  },
  {
   "cell_type": "markdown",
   "metadata": {
    "capter": 1,
    "cell_hash": "95cc2b7f0ed446f1ba3df55c08312138",
    "q_num": 7,
    "section_id": 6,
    "tags": [
     "q"
    ]
   },
   "source": [
    "#### Q:1-7\n",
    "0부터 8까지의 배열을 작성하고 3×3의 행렬로 변환하시오(a1_7)  \n",
    "(hint: reshape)\n",
    "\n",
    "【참고】 \n",
    "Numpy입문.ipynb#shape 변경\n",
    "https://docs.scipy.org/doc/numpy/reference/generated/numpy.reshape.html"
   ]
  },
  {
   "cell_type": "code",
   "execution_count": 7,
   "metadata": {
    "capter": 1,
    "cell_hash": "4990489250d54c8f92f8b221fc00787f",
    "q_num": 7,
    "section_id": 6,
    "tags": [
     "ya"
    ]
   },
   "outputs": [
    {
     "data": {
      "text/plain": [
       "array([[0, 1, 2],\n",
       "       [3, 4, 5],\n",
       "       [6, 7, 8]])"
      ]
     },
     "execution_count": 7,
     "metadata": {},
     "output_type": "execute_result"
    }
   ],
   "source": [
    "\n",
    "a1_7"
   ]
  },
  {
   "cell_type": "markdown",
   "metadata": {
    "capter": 1,
    "cell_hash": "cf63f6baf90f4991a95212b2e8b6a498",
    "q_num": 8,
    "section_id": 7,
    "tags": [
     "q"
    ]
   },
   "source": [
    "#### Q:1-8\n",
    "\\[1,2,0,0,4,0\\] 배열(a1_8)에서 0 이외의 요소의 index를 작성하시오(b1_8)  \n",
    "(hint: np.nonzero)\n",
    "\n",
    "【참고】 \n",
    "Numpy입문.ipynb#0이 아닌 요소의 index를 반환\n",
    "https://docs.scipy.org/doc/numpy/reference/generated/numpy.nonzero.html"
   ]
  },
  {
   "cell_type": "code",
   "execution_count": 8,
   "metadata": {
    "capter": 1,
    "cell_hash": "e2ae494b067a4a05a456b79d668f03e9",
    "q_num": 8,
    "section_id": 7,
    "tags": [
     "ya"
    ]
   },
   "outputs": [
    {
     "data": {
      "text/plain": [
       "(array([0, 1, 4], dtype=int64),)"
      ]
     },
     "execution_count": 8,
     "metadata": {},
     "output_type": "execute_result"
    }
   ],
   "source": [
    "a1_8 = np.array([1,2,0,0,4,0])\n",
    "\n",
    "b1_8"
   ]
  },
  {
   "cell_type": "markdown",
   "metadata": {
    "capter": 1,
    "cell_hash": "68a576b1197447048f3ea8825bf2c90f",
    "q_num": 9,
    "section_id": 8,
    "tags": [
     "q"
    ]
   },
   "source": [
    "#### Q:1-9\n",
    "3☓3 형태의 단위행렬을 작성하시오(a1_9)   \n",
    "(hint: np.eye)\n",
    "\n",
    "【참고】 \n",
    "Numpy입문.ipynb#단위행렬 만들기\n",
    "https://docs.scipy.org/doc/numpy/reference/generated/numpy.eye.html"
   ]
  },
  {
   "cell_type": "code",
   "execution_count": 9,
   "metadata": {
    "capter": 1,
    "cell_hash": "cb1de6e6993940069879bd9ee7c4ba0c",
    "q_num": 9,
    "section_id": 8,
    "tags": [
     "ya"
    ]
   },
   "outputs": [
    {
     "data": {
      "text/plain": [
       "array([[1., 0., 0.],\n",
       "       [0., 1., 0.],\n",
       "       [0., 0., 1.]])"
      ]
     },
     "execution_count": 9,
     "metadata": {},
     "output_type": "execute_result"
    }
   ],
   "source": [
    "\n",
    "a1_9"
   ]
  },
  {
   "cell_type": "markdown",
   "metadata": {
    "capter": 1,
    "cell_hash": "fd4a9dd0df3f402280045c3d04ad8f68",
    "q_num": 10,
    "section_id": 9,
    "tags": [
     "q"
    ]
   },
   "source": [
    "#### Q:1-10\n",
    "3☓3☓3 행렬을 난수로 작성하시오(a1_10)  \n",
    "(hint: np.random.random)\n",
    "\n",
    "【참고】 https://docs.scipy.org/doc/numpy/reference/generated/numpy.random.random.html"
   ]
  },
  {
   "cell_type": "code",
   "execution_count": 10,
   "metadata": {
    "capter": 1,
    "cell_hash": "e760cd1d830e4073a406cd6fed063486",
    "q_num": 10,
    "section_id": 9,
    "tags": [
     "ya"
    ]
   },
   "outputs": [
    {
     "data": {
      "text/plain": [
       "array([[[4.17022005e-01, 7.20324493e-01, 1.14374817e-04],\n",
       "        [3.02332573e-01, 1.46755891e-01, 9.23385948e-02],\n",
       "        [1.86260211e-01, 3.45560727e-01, 3.96767474e-01]],\n",
       "\n",
       "       [[5.38816734e-01, 4.19194514e-01, 6.85219500e-01],\n",
       "        [2.04452250e-01, 8.78117436e-01, 2.73875932e-02],\n",
       "        [6.70467510e-01, 4.17304802e-01, 5.58689828e-01]],\n",
       "\n",
       "       [[1.40386939e-01, 1.98101489e-01, 8.00744569e-01],\n",
       "        [9.68261576e-01, 3.13424178e-01, 6.92322616e-01],\n",
       "        [8.76389152e-01, 8.94606664e-01, 8.50442114e-02]]])"
      ]
     },
     "execution_count": 10,
     "metadata": {},
     "output_type": "execute_result"
    }
   ],
   "source": [
    "np.random.seed(1)\n",
    "a1_10"
   ]
  },
  {
   "cell_type": "markdown",
   "metadata": {
    "capter": 1,
    "cell_hash": "3110e60da280441190187564f91d7c7c",
    "q_num": 11,
    "section_id": 10,
    "tags": [
     "q"
    ]
   },
   "source": [
    "#### Q:1-11\n",
    "10☓10 행렬을 난수로 작성하고 최대치(a1_11_max)와 최소치(a1_11_min)를 표시하시오  \n",
    "(hint: min, max)\n",
    "\n",
    "\n",
    "【참고】 \n",
    "https://docs.scipy.org/doc/numpy/reference/generated/numpy.ndarray.max.html  \n",
    "https://docs.scipy.org/doc/numpy/reference/generated/numpy.ndarray.min.html"
   ]
  },
  {
   "cell_type": "code",
   "execution_count": 11,
   "metadata": {
    "capter": 1,
    "cell_hash": "8112125cd344468fbb5a61b29f667df6",
    "q_num": 11,
    "section_id": 10,
    "tags": [
     "ya"
    ]
   },
   "outputs": [
    {
     "name": "stdout",
     "output_type": "stream",
     "text": [
      "0.00011437481734488664 0.9888610889064947\n"
     ]
    }
   ],
   "source": [
    "np.random.seed(1)\n",
    "\n",
    "print(a1_11_min, a1_11_max)"
   ]
  },
  {
   "cell_type": "markdown",
   "metadata": {
    "capter": 1,
    "cell_hash": "cba056c747664abe98351e61a752689b",
    "q_num": 12,
    "section_id": 11,
    "tags": [
     "q"
    ]
   },
   "source": [
    "#### Q:1-12\n",
    "사이즈가 30인 배열을 난수로 작성하고(a1_12) 그 값들의 평균을 구하시오(a1_12_mean)  \n",
    "(hint: mean)\n",
    "\n",
    "【참고】 https://docs.scipy.org/doc/numpy/reference/generated/numpy.mean.html"
   ]
  },
  {
   "cell_type": "code",
   "execution_count": 12,
   "metadata": {
    "capter": 1,
    "cell_hash": "c51668aabd5f48cf9d26c55dce9b7a60",
    "q_num": 12,
    "section_id": 11,
    "tags": [
     "ya"
    ]
   },
   "outputs": [
    {
     "name": "stdout",
     "output_type": "stream",
     "text": [
      "0.43544785374154765\n"
     ]
    }
   ],
   "source": [
    "np.random.seed(1)\n",
    "\n",
    "print(a1_12_mean)"
   ]
  },
  {
   "cell_type": "markdown",
   "metadata": {
    "capter": 1,
    "cell_hash": "2296744d2fa546d6b1fdeae738c02965",
    "q_num": 13,
    "section_id": 12,
    "tags": [
     "q"
    ]
   },
   "source": [
    "#### Q:1-13\n",
    "10☓10 크기의 값이 1인 행렬을 작성하고(a1_13) 안쪽을 0으로 채우시오  \n",
    "(hint: array[1:-1, 1:-1])\n",
    "\n",
    "【참고】 \n",
    "https://docs.scipy.org/doc/numpy/reference/generated/numpy.ones.html  \n",
    "https://docs.scipy.org/doc/numpy-1.16.0/user/basics.indexing.html"
   ]
  },
  {
   "cell_type": "code",
   "execution_count": 13,
   "metadata": {
    "capter": 1,
    "cell_hash": "ed919d480aae4703b3b3d5ab07403020",
    "q_num": 13,
    "section_id": 12,
    "tags": [
     "ya"
    ]
   },
   "outputs": [
    {
     "data": {
      "text/plain": [
       "array([[1., 1., 1., 1., 1., 1., 1., 1., 1., 1.],\n",
       "       [1., 0., 0., 0., 0., 0., 0., 0., 0., 1.],\n",
       "       [1., 0., 0., 0., 0., 0., 0., 0., 0., 1.],\n",
       "       [1., 0., 0., 0., 0., 0., 0., 0., 0., 1.],\n",
       "       [1., 0., 0., 0., 0., 0., 0., 0., 0., 1.],\n",
       "       [1., 0., 0., 0., 0., 0., 0., 0., 0., 1.],\n",
       "       [1., 0., 0., 0., 0., 0., 0., 0., 0., 1.],\n",
       "       [1., 0., 0., 0., 0., 0., 0., 0., 0., 1.],\n",
       "       [1., 0., 0., 0., 0., 0., 0., 0., 0., 1.],\n",
       "       [1., 1., 1., 1., 1., 1., 1., 1., 1., 1.]])"
      ]
     },
     "execution_count": 13,
     "metadata": {},
     "output_type": "execute_result"
    }
   ],
   "source": [
    "\n",
    "a1_13"
   ]
  },
  {
   "cell_type": "markdown",
   "metadata": {
    "capter": 1,
    "cell_hash": "cb4955a218da4c1f9f6f6e2aa0f41da3",
    "q_num": 14,
    "section_id": 13,
    "tags": [
     "q"
    ]
   },
   "source": [
    "#### Q:1-14\n",
    "10☓10 크기의 값이 1인 행렬을 작성하고 테두리를 0으로 채우시오 \n",
    "(hint: np.pad)\n",
    "\n",
    "【참고】 https://docs.scipy.org/doc/numpy-1.14.1/reference/generated/numpy.pad.html"
   ]
  },
  {
   "cell_type": "code",
   "execution_count": 14,
   "metadata": {
    "capter": 1,
    "cell_hash": "bec43abf65c34d8c8bd46abc0e4cb739",
    "q_num": 14,
    "section_id": 13,
    "tags": [
     "ya"
    ]
   },
   "outputs": [
    {
     "data": {
      "text/plain": [
       "array([[0., 0., 0., 0., 0., 0., 0., 0., 0., 0., 0., 0.],\n",
       "       [0., 1., 1., 1., 1., 1., 1., 1., 1., 1., 1., 0.],\n",
       "       [0., 1., 1., 1., 1., 1., 1., 1., 1., 1., 1., 0.],\n",
       "       [0., 1., 1., 1., 1., 1., 1., 1., 1., 1., 1., 0.],\n",
       "       [0., 1., 1., 1., 1., 1., 1., 1., 1., 1., 1., 0.],\n",
       "       [0., 1., 1., 1., 1., 1., 1., 1., 1., 1., 1., 0.],\n",
       "       [0., 1., 1., 1., 1., 1., 1., 1., 1., 1., 1., 0.],\n",
       "       [0., 1., 1., 1., 1., 1., 1., 1., 1., 1., 1., 0.],\n",
       "       [0., 1., 1., 1., 1., 1., 1., 1., 1., 1., 1., 0.],\n",
       "       [0., 1., 1., 1., 1., 1., 1., 1., 1., 1., 1., 0.],\n",
       "       [0., 1., 1., 1., 1., 1., 1., 1., 1., 1., 1., 0.],\n",
       "       [0., 0., 0., 0., 0., 0., 0., 0., 0., 0., 0., 0.]])"
      ]
     },
     "execution_count": 14,
     "metadata": {},
     "output_type": "execute_result"
    }
   ],
   "source": [
    "\n",
    "a1_14"
   ]
  },
  {
   "cell_type": "markdown",
   "metadata": {
    "capter": 1,
    "cell_hash": "c0ea1fef7e7e42b9bf4ebdac48b36194",
    "q_num": 15,
    "section_id": 14,
    "tags": [
     "q"
    ]
   },
   "source": [
    "#### Q:1-15\n",
    "아래의 연산의 결과를 확인하시오\n",
    "```python\n",
    "0 * np.nan\n",
    "np.nan == np.nan\n",
    "np.inf > np.nan\n",
    "np.nan - np.nan\n",
    "0.3 == 3 * 0.1\n",
    "```"
   ]
  },
  {
   "cell_type": "code",
   "execution_count": 15,
   "metadata": {
    "capter": 1,
    "cell_hash": "c409cbdaa51e4f5fa651c60a43e4dfc6",
    "q_num": 15,
    "section_id": 14,
    "tags": [
     "ya"
    ]
   },
   "outputs": [
    {
     "data": {
      "text/plain": [
       "nan"
      ]
     },
     "execution_count": 15,
     "metadata": {},
     "output_type": "execute_result"
    }
   ],
   "source": []
  },
  {
   "cell_type": "code",
   "execution_count": 16,
   "metadata": {
    "capter": 1,
    "cell_hash": "c409cbdaa51e4f5fa651c60a43e4dfc6",
    "q_num": 15,
    "section_id": 14,
    "tags": [
     "ya"
    ]
   },
   "outputs": [
    {
     "data": {
      "text/plain": [
       "False"
      ]
     },
     "execution_count": 16,
     "metadata": {},
     "output_type": "execute_result"
    }
   ],
   "source": []
  },
  {
   "cell_type": "code",
   "execution_count": 17,
   "metadata": {
    "capter": 1,
    "cell_hash": "c409cbdaa51e4f5fa651c60a43e4dfc6",
    "q_num": 15,
    "section_id": 14,
    "tags": [
     "ya"
    ]
   },
   "outputs": [
    {
     "data": {
      "text/plain": [
       "False"
      ]
     },
     "execution_count": 17,
     "metadata": {},
     "output_type": "execute_result"
    }
   ],
   "source": []
  },
  {
   "cell_type": "code",
   "execution_count": 18,
   "metadata": {
    "capter": 1,
    "cell_hash": "c409cbdaa51e4f5fa651c60a43e4dfc6",
    "q_num": 15,
    "section_id": 14,
    "tags": [
     "ya"
    ]
   },
   "outputs": [
    {
     "data": {
      "text/plain": [
       "nan"
      ]
     },
     "execution_count": 18,
     "metadata": {},
     "output_type": "execute_result"
    }
   ],
   "source": []
  },
  {
   "cell_type": "code",
   "execution_count": 19,
   "metadata": {
    "capter": 1,
    "cell_hash": "c409cbdaa51e4f5fa651c60a43e4dfc6",
    "q_num": 15,
    "section_id": 14,
    "tags": [
     "ya"
    ]
   },
   "outputs": [
    {
     "data": {
      "text/plain": [
       "False"
      ]
     },
     "execution_count": 19,
     "metadata": {},
     "output_type": "execute_result"
    }
   ],
   "source": []
  },
  {
   "cell_type": "markdown",
   "metadata": {
    "capter": 1,
    "cell_hash": "e50ab803bcd14c26bfeb31efbe675ca8",
    "q_num": 16,
    "section_id": 15,
    "tags": [
     "q"
    ]
   },
   "source": [
    "#### Q:1-16\n",
    "아래와 같은 행렬(numpy.ndarray)을 작성하시오(a1_16)\n",
    "```\n",
    "    [[0 0 0 0 0]  \n",
    "     [1 0 0 0 0]  \n",
    "     [0 2 0 0 0]  \n",
    "     [0 0 3 0 0]  \n",
    "     [0 0 0 4 0]]\n",
    " ```\n",
    " (hint: np.diag)\n",
    " \n",
    "  【참고】 https://docs.scipy.org/doc/numpy/reference/generated/numpy.diag.html"
   ]
  },
  {
   "cell_type": "code",
   "execution_count": 20,
   "metadata": {
    "capter": 1,
    "cell_hash": "d91faecff33b44178e37c1486e1f3670",
    "q_num": 16,
    "section_id": 15,
    "tags": [
     "ya"
    ]
   },
   "outputs": [
    {
     "data": {
      "text/plain": [
       "array([[0, 0, 0, 0, 0],\n",
       "       [1, 0, 0, 0, 0],\n",
       "       [0, 2, 0, 0, 0],\n",
       "       [0, 0, 3, 0, 0],\n",
       "       [0, 0, 0, 4, 0]])"
      ]
     },
     "execution_count": 20,
     "metadata": {},
     "output_type": "execute_result"
    }
   ],
   "source": [
    "\n",
    "a1_16"
   ]
  },
  {
   "cell_type": "markdown",
   "metadata": {
    "capter": 1,
    "cell_hash": "72ac02327a5e44b1a4d97a1b11d48ad2",
    "q_num": 17,
    "section_id": 16,
    "tags": [
     "q"
    ]
   },
   "source": [
    "#### Q:1-17\n",
    "아래와 같은 행렬(numpy.ndarray)을 작성하시오(a1_17)\n",
    " ```\n",
    "     [[0 1 0 1 0 1 0 1]\n",
    "     [1 0 1 0 1 0 1 0]\n",
    "     [0 1 0 1 0 1 0 1]\n",
    "     [1 0 1 0 1 0 1 0]\n",
    "     [0 1 0 1 0 1 0 1]\n",
    "     [1 0 1 0 1 0 1 0]\n",
    "     [0 1 0 1 0 1 0 1]\n",
    "     [1 0 1 0 1 0 1 0]]\n",
    "```\n",
    "(hint: array[::2])\n",
    "\n",
    "【참고】 \n",
    "https://docs.scipy.org/doc/numpy/reference/generated/numpy.zeros.html  \n",
    "https://docs.scipy.org/doc/numpy-1.16.0/user/basics.indexing.html"
   ]
  },
  {
   "cell_type": "code",
   "execution_count": 21,
   "metadata": {
    "capter": 1,
    "cell_hash": "173d1856dd5b48cba7b14b01178a28b3",
    "q_num": 17,
    "section_id": 16,
    "tags": [
     "ya"
    ]
   },
   "outputs": [
    {
     "data": {
      "text/plain": [
       "array([[0., 1., 0., 1., 0., 1., 0., 1.],\n",
       "       [1., 0., 1., 0., 1., 0., 1., 0.],\n",
       "       [0., 1., 0., 1., 0., 1., 0., 1.],\n",
       "       [1., 0., 1., 0., 1., 0., 1., 0.],\n",
       "       [0., 1., 0., 1., 0., 1., 0., 1.],\n",
       "       [1., 0., 1., 0., 1., 0., 1., 0.],\n",
       "       [0., 1., 0., 1., 0., 1., 0., 1.],\n",
       "       [1., 0., 1., 0., 1., 0., 1., 0.]])"
      ]
     },
     "execution_count": 21,
     "metadata": {},
     "output_type": "execute_result"
    }
   ],
   "source": [
    "\n",
    "a1_17"
   ]
  },
  {
   "cell_type": "markdown",
   "metadata": {
    "capter": 1,
    "cell_hash": "61331e3ea6724c7b84fb3e0b1a80c83f",
    "q_num": 18,
    "section_id": 17,
    "tags": [
     "q"
    ]
   },
   "source": [
    "#### Q:1-18\n",
    "6x7x8 행렬에서 100번째 요소의 index를 확인하시오(a1_18)  \n",
    "(hint: np.unravel_index)\n",
    "\n",
    "【참고】 https://docs.scipy.org/doc/numpy/reference/generated/numpy.unravel_index.html"
   ]
  },
  {
   "cell_type": "code",
   "execution_count": 22,
   "metadata": {
    "capter": 1,
    "cell_hash": "2b2e76ba7a1741bb8c2faf8d370a532b",
    "q_num": 18,
    "section_id": 17,
    "tags": [
     "ya"
    ]
   },
   "outputs": [
    {
     "data": {
      "text/plain": [
       "(1, 5, 4)"
      ]
     },
     "execution_count": 22,
     "metadata": {},
     "output_type": "execute_result"
    }
   ],
   "source": [
    "\n",
    "a1_18"
   ]
  },
  {
   "cell_type": "markdown",
   "metadata": {
    "capter": 1,
    "cell_hash": "b091b4fb0466410cbfc344b2b16a8360",
    "q_num": 19,
    "section_id": 18,
    "tags": [
     "q"
    ]
   },
   "source": [
    "#### Q:1-19\n",
    "tile 함수를 사용하여 `Q:1-17`의 행렬을 작성하시오(a1_19)\n",
    "\n",
    "【참고】 https://docs.scipy.org/doc/numpy/reference/generated/numpy.tile.html"
   ]
  },
  {
   "cell_type": "code",
   "execution_count": 23,
   "metadata": {
    "capter": 1,
    "cell_hash": "6fe9a0d0388546ceb269c2114486e184",
    "q_num": 19,
    "section_id": 18,
    "tags": [
     "ya"
    ]
   },
   "outputs": [
    {
     "data": {
      "text/plain": [
       "array([[0, 1, 0, 1, 0, 1, 0, 1],\n",
       "       [1, 0, 1, 0, 1, 0, 1, 0],\n",
       "       [0, 1, 0, 1, 0, 1, 0, 1],\n",
       "       [1, 0, 1, 0, 1, 0, 1, 0],\n",
       "       [0, 1, 0, 1, 0, 1, 0, 1],\n",
       "       [1, 0, 1, 0, 1, 0, 1, 0],\n",
       "       [0, 1, 0, 1, 0, 1, 0, 1],\n",
       "       [1, 0, 1, 0, 1, 0, 1, 0]])"
      ]
     },
     "execution_count": 23,
     "metadata": {},
     "output_type": "execute_result"
    }
   ],
   "source": [
    "\n",
    "a1_19"
   ]
  },
  {
   "cell_type": "markdown",
   "metadata": {
    "capter": 1,
    "cell_hash": "ce15f343e9e34945865336bd7ca77fc1",
    "q_num": 20,
    "section_id": 19,
    "tags": [
     "q"
    ]
   },
   "source": [
    "#### Q:1-20\n",
    "5x5 행렬을 난수로 작성하고(a1_20) 정규화(최대값을 1, 최소값을 0) 하시오(b1_20)  \n",
    "\n",
    "【참고】 \n",
    "https://docs.scipy.org/doc/numpy/reference/generated/numpy.random.random.html\n",
    "https://docs.scipy.org/doc/numpy/reference/generated/numpy.ndarray.max.html  \n",
    "https://docs.scipy.org/doc/numpy/reference/generated/numpy.ndarray.min.html"
   ]
  },
  {
   "cell_type": "code",
   "execution_count": 24,
   "metadata": {
    "ExecuteTime": {
     "end_time": "2019-05-07T08:45:38.691636Z",
     "start_time": "2019-05-07T08:45:38.683689Z"
    },
    "capter": 1,
    "cell_hash": "36c59f62af004e67a9131af4c8daf24c",
    "q_num": 20,
    "section_id": 19,
    "tags": [
     "ya"
    ]
   },
   "outputs": [
    {
     "name": "stdout",
     "output_type": "stream",
     "text": [
      "[[0.43062422 0.74390559 0.         0.31216141 0.15146614]\n",
      " [0.09525847 0.19227018 0.35681181 0.4097033  0.55642609]\n",
      " [0.4328682  0.70764562 0.21106075 0.90689005 0.02817053]\n",
      " [0.69240828 0.43091632 0.57695302 0.14488764 0.20450104]\n",
      " [0.82697155 1.         0.32361794 0.71498243 0.9051049 ]]\n"
     ]
    }
   ],
   "source": [
    "np.random.seed(1)\n",
    "a1_20 = \n",
    "\n",
    "print(b1_20)"
   ]
  },
  {
   "cell_type": "markdown",
   "metadata": {
    "capter": 1,
    "cell_hash": "056eb9991d624f4db839cc304aad82fb",
    "q_num": 21,
    "section_id": 20,
    "tags": [
     "q"
    ]
   },
   "source": [
    "#### Q:1-21\n",
    "텍스트 파일을 데이터 타입이 `np.int`로 배열에 읽어들이시오(a1_21)  \n",
    "(hint: np.genfromtxt)\n",
    "\n",
    "【참고】 \n",
    "https://docs.scipy.org/doc/numpy/reference/generated/numpy.genfromtxt.html"
   ]
  },
  {
   "cell_type": "code",
   "execution_count": 25,
   "metadata": {
    "capter": 1,
    "cell_hash": "ae448c5ccc644c368772f09d1eec7af9",
    "q_num": 21,
    "section_id": 20,
    "tags": [
     "ya"
    ]
   },
   "outputs": [
    {
     "name": "stdout",
     "output_type": "stream",
     "text": [
      "[[ 1  2  3  4  5]\n",
      " [ 6 -1 -1  7  8]\n",
      " [-1 -1  9 10 11]]\n"
     ]
    }
   ],
   "source": [
    "from io import StringIO\n",
    "\n",
    "text = \"\"\"1, 2, 3, 4, 5\\n\n",
    "    6,  ,  , 7, 8\\n\n",
    "    ,  , 9,10,11\\n\"\"\"\n",
    "file = StringIO(text)\n",
    "a1_21 = \n",
    "print(a1_21)"
   ]
  },
  {
   "cell_type": "markdown",
   "metadata": {
    "capter": 1,
    "cell_hash": "0bfcefe3190b4f18b2f67ab76193cdee",
    "q_num": 22,
    "section_id": 21,
    "tags": [
     "q"
    ]
   },
   "source": [
    "#### Q:1-22\n",
    "값 1의 5x3 행렬에 값 1의 3x2 행렬을 곱하시오(a1_22)  \n",
    "(hint: np.dot | @)\n",
    "\n",
    "【참고】 \n",
    "Numpy입문.ipynb #곱셈  \n",
    "https://docs.scipy.org/doc/numpy/reference/generated/numpy.dot.html  "
   ]
  },
  {
   "cell_type": "code",
   "execution_count": 26,
   "metadata": {
    "capter": 1,
    "cell_hash": "a10473addeaf40febd966a8c2aad53ac",
    "q_num": 22,
    "section_id": 21,
    "tags": [
     "ya"
    ]
   },
   "outputs": [
    {
     "data": {
      "text/plain": [
       "array([[3., 3.],\n",
       "       [3., 3.],\n",
       "       [3., 3.],\n",
       "       [3., 3.],\n",
       "       [3., 3.]])"
      ]
     },
     "execution_count": 26,
     "metadata": {},
     "output_type": "execute_result"
    }
   ],
   "source": [
    "\n",
    "a1_22"
   ]
  },
  {
   "cell_type": "markdown",
   "metadata": {
    "capter": 1,
    "cell_hash": "5f56e837cc7f4245bb209e6f64d4a758",
    "q_num": 23,
    "section_id": 22,
    "tags": [
     "q"
    ]
   },
   "source": [
    "#### Q:1-23\n",
    "0부터 10까지의 배열을 작성하고(a1_23) 4부터 8까지의 값을 음수로 하시오  \n",
    "(hint: >, <=)"
   ]
  },
  {
   "cell_type": "code",
   "execution_count": 27,
   "metadata": {
    "capter": 1,
    "cell_hash": "913694bc6b13487a992c623b6f2e0195",
    "q_num": 23,
    "section_id": 22,
    "tags": [
     "ya"
    ]
   },
   "outputs": [
    {
     "data": {
      "text/plain": [
       "array([ 0,  1,  2,  3, -4, -5, -6, -7, -8,  9, 10])"
      ]
     },
     "execution_count": 27,
     "metadata": {},
     "output_type": "execute_result"
    }
   ],
   "source": [
    "\n",
    "a1_23"
   ]
  },
  {
   "cell_type": "markdown",
   "metadata": {
    "capter": 1,
    "cell_hash": "384cbe20fc70469c9038886aa5847094",
    "q_num": 24,
    "section_id": 23,
    "tags": [
     "q"
    ]
   },
   "source": [
    "#### Q:1-24\n",
    "아래와 같은 연산의 결과를 확인하시오\n",
    "```\n",
    "np.array(0) / np.array(0)\n",
    "np.array(0) // np.array(0)\n",
    "np.array([np.nan]).astype(int).astype(float)\n",
    "```"
   ]
  },
  {
   "cell_type": "code",
   "execution_count": 28,
   "metadata": {
    "capter": 1,
    "cell_hash": "deae881a62794fb2bc04fc910580d858",
    "q_num": 24,
    "section_id": 23,
    "tags": [
     "ya"
    ]
   },
   "outputs": [
    {
     "name": "stderr",
     "output_type": "stream",
     "text": [
      "<ipython-input-28-3585dcb7ab9b>:1: RuntimeWarning: invalid value encountered in true_divide\n",
      "  np.array(0) / np.array(0)\n"
     ]
    },
    {
     "data": {
      "text/plain": [
       "nan"
      ]
     },
     "execution_count": 28,
     "metadata": {},
     "output_type": "execute_result"
    }
   ],
   "source": []
  },
  {
   "cell_type": "code",
   "execution_count": 29,
   "metadata": {
    "capter": 1,
    "cell_hash": "deae881a62794fb2bc04fc910580d858",
    "q_num": 24,
    "section_id": 23,
    "tags": [
     "ya"
    ]
   },
   "outputs": [
    {
     "name": "stderr",
     "output_type": "stream",
     "text": [
      "<ipython-input-29-4764261090d0>:1: RuntimeWarning: divide by zero encountered in floor_divide\n",
      "  np.array(0) // np.array(0)\n"
     ]
    },
    {
     "data": {
      "text/plain": [
       "0"
      ]
     },
     "execution_count": 29,
     "metadata": {},
     "output_type": "execute_result"
    }
   ],
   "source": []
  },
  {
   "cell_type": "code",
   "execution_count": 30,
   "metadata": {
    "capter": 1,
    "cell_hash": "deae881a62794fb2bc04fc910580d858",
    "q_num": 24,
    "section_id": 23,
    "tags": [
     "ya"
    ]
   },
   "outputs": [
    {
     "data": {
      "text/plain": [
       "array([-2.14748365e+09])"
      ]
     },
     "execution_count": 30,
     "metadata": {},
     "output_type": "execute_result"
    }
   ],
   "source": []
  },
  {
   "cell_type": "markdown",
   "metadata": {
    "capter": 1,
    "cell_hash": "19a0d5337d944116bfeeeb438a02b507",
    "q_num": 25,
    "section_id": 24,
    "tags": [
     "q"
    ]
   },
   "source": [
    "#### Q:1-25\n",
    "float 배열(a1_25)을 올림처리 하시오(b1_25)\n",
    "```\n",
    "Z = np.random.uniform(-10, +10, 10)\n",
    "```\n",
    "※ 절대값이 큰 쪽으로 만든다(예: -0.7 는 -1, 0.7 은 1)  \n",
    "(hint: np.uniform, np.copysign, np.ceil, np.abs)\n",
    "\n",
    "【참고】 \n",
    "https://docs.scipy.org/doc/numpy/reference/generated/numpy.random.uniform.html  \n",
    "https://docs.scipy.org/doc/numpy/reference/generated/numpy.copysign.html  \n",
    "https://docs.scipy.org/doc/numpy/reference/generated/numpy.ceil.html   \n",
    "https://docs.scipy.org/doc/numpy/reference/generated/numpy.absolute.html"
   ]
  },
  {
   "cell_type": "code",
   "execution_count": 31,
   "metadata": {
    "capter": 1,
    "cell_hash": "483e1f04a3844fef9c2dc7bc9f7a56f5",
    "q_num": 25,
    "section_id": 24,
    "tags": [
     "ya"
    ]
   },
   "outputs": [
    {
     "name": "stdout",
     "output_type": "stream",
     "text": [
      "[-1.65955991  4.40648987 -9.9977125  -3.95334855 -7.06488218 -8.1532281\n",
      " -6.27479577 -3.08878546 -2.06465052  0.77633468]\n",
      "[ -2.   5. -10.  -4.  -8.  -9.  -7.  -4.  -3.   1.]\n"
     ]
    }
   ],
   "source": [
    "np.random.seed(1)\n",
    "a1_25 = np.random.uniform(-10, +10, 10)\n",
    "print(a1_25)\n",
    "b1_25 = \n",
    "print(b1_25)"
   ]
  },
  {
   "cell_type": "markdown",
   "metadata": {
    "capter": 1,
    "cell_hash": "a9aadd920f1948878f37efcd40d0657c",
    "q_num": 26,
    "section_id": 25,
    "tags": [
     "q"
    ]
   },
   "source": [
    "#### Q:1-26\n",
    "사이즈가 10이고 0부터 10까지의 난수(정수)를 두개 만들고(a1_26, b1_26) 그 공통 값을 출력하시오(c1_26)  \n",
    "(hint: np.intersect1d)\n",
    "\n",
    "【참고】 \n",
    "https://docs.scipy.org/doc/numpy-1.15.1/reference/generated/numpy.random.randint.html  \n",
    "https://docs.scipy.org/doc/numpy-1.15.0/reference/generated/numpy.intersect1d.html"
   ]
  },
  {
   "cell_type": "code",
   "execution_count": 32,
   "metadata": {
    "capter": 1,
    "cell_hash": "edd3b6e0013746898d2460dabfad11f9",
    "q_num": 26,
    "section_id": 25,
    "tags": [
     "ya"
    ]
   },
   "outputs": [
    {
     "name": "stdout",
     "output_type": "stream",
     "text": [
      "[5 7 9]\n"
     ]
    }
   ],
   "source": [
    "np.random.seed(1)\n",
    "\n",
    "\n",
    "print(c1_26)"
   ]
  },
  {
   "cell_type": "markdown",
   "metadata": {
    "capter": 1,
    "cell_hash": "656d6466d61548b7a48d7d6393272718",
    "q_num": 27,
    "section_id": 26,
    "tags": [
     "q"
    ]
   },
   "source": [
    "#### Q:1-27\n",
    "아래와 같은 연산의 결과를 확인하시오\n",
    "```python\n",
    "np.sqrt(-1) == np.emath.sqrt(-1)\n",
    "```"
   ]
  },
  {
   "cell_type": "code",
   "execution_count": 33,
   "metadata": {
    "capter": 1,
    "cell_hash": "33410fab0b2f407fb08f7ed64bfa266e",
    "q_num": 27,
    "section_id": 26,
    "tags": [
     "ya"
    ]
   },
   "outputs": [
    {
     "name": "stderr",
     "output_type": "stream",
     "text": [
      "<ipython-input-33-16339fbc685e>:1: RuntimeWarning: invalid value encountered in sqrt\n",
      "  np.sqrt(-1) == np.emath.sqrt(-1)\n"
     ]
    },
    {
     "data": {
      "text/plain": [
       "False"
      ]
     },
     "execution_count": 33,
     "metadata": {},
     "output_type": "execute_result"
    }
   ],
   "source": []
  },
  {
   "cell_type": "markdown",
   "metadata": {
    "capter": 1,
    "cell_hash": "8dcce2b82bfe4a7091a303040962002f",
    "q_num": 28,
    "section_id": 27,
    "tags": [
     "q"
    ]
   },
   "source": [
    "#### Q:1-28\n",
    "numpy.datetime64 를 이용하여 어제(yesterday), 오늘(today) 내일(tomorrow)의 날짜를 각각의 변수에 저장하시오  \n",
    "(hint: np.datetime64, np.timedelta64)\n",
    "\n",
    "【참고】 https://docs.scipy.org/doc/numpy-1.13.0/reference/arrays.datetime.html"
   ]
  },
  {
   "cell_type": "code",
   "execution_count": 34,
   "metadata": {
    "capter": 1,
    "cell_hash": "7e9a6ea59b404f30a5ca0fb5bc431302",
    "q_num": 28,
    "section_id": 27,
    "tags": [
     "ya"
    ]
   },
   "outputs": [],
   "source": [
    "yesterday = \n",
    "today = \n",
    "tomorrow = "
   ]
  },
  {
   "cell_type": "markdown",
   "metadata": {
    "capter": 1,
    "cell_hash": "ab7e015dc68545f891b39c544a3997b3",
    "q_num": 29,
    "section_id": 28,
    "tags": [
     "q"
    ]
   },
   "source": [
    "#### Q:1-29\n",
    "2016년 7월의 모든 날짜를 넣은 배열을 만드시오(a1_29)  \n",
    "(hint: np.arange(dtype='datetime64[D]'))\n",
    "\n",
    "【참고】 \n",
    "https://docs.scipy.org/doc/numpy-1.16.0/reference/generated/numpy.arange.html  \n",
    "https://docs.scipy.org/doc/numpy-1.16.0/reference/generated/numpy.dtype.html#numpy.dtype"
   ]
  },
  {
   "cell_type": "code",
   "execution_count": 35,
   "metadata": {
    "capter": 1,
    "cell_hash": "f80b4996c7a345ba9f991f667b7e0efc",
    "q_num": 29,
    "section_id": 28,
    "tags": [
     "ya"
    ]
   },
   "outputs": [
    {
     "data": {
      "text/plain": [
       "array(['2016-07-01', '2016-07-02', '2016-07-03', '2016-07-04',\n",
       "       '2016-07-05', '2016-07-06', '2016-07-07', '2016-07-08',\n",
       "       '2016-07-09', '2016-07-10', '2016-07-11', '2016-07-12',\n",
       "       '2016-07-13', '2016-07-14', '2016-07-15', '2016-07-16',\n",
       "       '2016-07-17', '2016-07-18', '2016-07-19', '2016-07-20',\n",
       "       '2016-07-21', '2016-07-22', '2016-07-23', '2016-07-24',\n",
       "       '2016-07-25', '2016-07-26', '2016-07-27', '2016-07-28',\n",
       "       '2016-07-29', '2016-07-30', '2016-07-31'], dtype='datetime64[D]')"
      ]
     },
     "execution_count": 35,
     "metadata": {},
     "output_type": "execute_result"
    }
   ],
   "source": [
    "\n",
    "a1_29"
   ]
  },
  {
   "cell_type": "markdown",
   "metadata": {
    "capter": 1,
    "cell_hash": "7b90aac0c5664f03985c83b4613c609a",
    "q_num": 30,
    "section_id": 29,
    "tags": [
     "q"
    ]
   },
   "source": [
    "#### Q:1-30\n",
    "((A + B) \\* (-A / 2)) 를 계산하시오\n",
    "```\n",
    "A = np.ones(3) * 1\n",
    "B = np.ones(3) * 2\n",
    "```\n",
    "(hint: np.add(out=), np.negative(out=), np.multiply(out=), np.divide(out=))"
   ]
  },
  {
   "cell_type": "code",
   "execution_count": 36,
   "metadata": {
    "capter": 1,
    "cell_hash": "9ac20c67620b4d07b588cfbcd7f2758b",
    "q_num": 30,
    "section_id": 29,
    "tags": [
     "ya"
    ]
   },
   "outputs": [
    {
     "data": {
      "text/plain": [
       "array([-1.5, -1.5, -1.5])"
      ]
     },
     "execution_count": 36,
     "metadata": {},
     "output_type": "execute_result"
    }
   ],
   "source": [
    "A = np.ones(3) * 1\n",
    "B = np.ones(3) * 2\n",
    "\n",
    "\n"
   ]
  },
  {
   "cell_type": "markdown",
   "metadata": {
    "capter": 1,
    "cell_hash": "17d964f1634b48ddabf04a341c97c396",
    "q_num": 31,
    "section_id": 30,
    "tags": [
     "q"
    ]
   },
   "source": [
    "#### Q:1-31\n",
    "다섯개의 각각 다른 함수나 메서드를 사용하여 랜덤 배열(a1_31) 정수부분을 추출하시오\n",
    "```\n",
    "Z = np.random.uniform(0, 10, 10)\n",
    "```\n",
    "(hint: %, np.floor, np.ceil, astype, np.trunc)\n",
    "\n",
    "【참고】 \n",
    "https://docs.scipy.org/doc/numpy-1.15.0/reference/generated/numpy.floor.html  \n",
    "https://docs.scipy.org/doc/numpy/reference/generated/numpy.ceil.html  \n",
    "https://docs.scipy.org/doc/numpy/reference/generated/numpy.ndarray.astype.html  \n",
    "https://docs.scipy.org/doc/numpy/reference/generated/numpy.trunc.html  \n",
    "https://docs.python.org/ja/3/reference/expressions.html#binary-arithmetic-operations"
   ]
  },
  {
   "cell_type": "code",
   "execution_count": 37,
   "metadata": {
    "capter": 1,
    "cell_hash": "2a528393ad84455d949ac011e04caf9f",
    "q_num": 31,
    "section_id": 30,
    "tags": [
     "ya"
    ]
   },
   "outputs": [],
   "source": [
    "np.random.seed(1)\n",
    "a1_31 = np.random.uniform(0, 10, 10)"
   ]
  },
  {
   "cell_type": "code",
   "execution_count": 38,
   "metadata": {
    "capter": 1,
    "cell_hash": "2a528393ad84455d949ac011e04caf9f",
    "q_num": 31,
    "section_id": 30,
    "tags": [
     "ya"
    ]
   },
   "outputs": [
    {
     "data": {
      "text/plain": [
       "array([4., 7., 0., 3., 1., 0., 1., 3., 3., 5.])"
      ]
     },
     "execution_count": 38,
     "metadata": {},
     "output_type": "execute_result"
    }
   ],
   "source": []
  },
  {
   "cell_type": "code",
   "execution_count": 39,
   "metadata": {},
   "outputs": [
    {
     "data": {
      "text/plain": [
       "array([4., 7., 0., 3., 1., 0., 1., 3., 3., 5.])"
      ]
     },
     "execution_count": 39,
     "metadata": {},
     "output_type": "execute_result"
    }
   ],
   "source": []
  },
  {
   "cell_type": "code",
   "execution_count": 40,
   "metadata": {},
   "outputs": [
    {
     "data": {
      "text/plain": [
       "array([4., 7., 0., 3., 1., 0., 1., 3., 3., 5.])"
      ]
     },
     "execution_count": 40,
     "metadata": {},
     "output_type": "execute_result"
    }
   ],
   "source": []
  },
  {
   "cell_type": "code",
   "execution_count": 41,
   "metadata": {},
   "outputs": [
    {
     "data": {
      "text/plain": [
       "array([4, 7, 0, 3, 1, 0, 1, 3, 3, 5])"
      ]
     },
     "execution_count": 41,
     "metadata": {},
     "output_type": "execute_result"
    }
   ],
   "source": []
  },
  {
   "cell_type": "code",
   "execution_count": 42,
   "metadata": {},
   "outputs": [
    {
     "data": {
      "text/plain": [
       "array([4., 7., 0., 3., 1., 0., 1., 3., 3., 5.])"
      ]
     },
     "execution_count": 42,
     "metadata": {},
     "output_type": "execute_result"
    }
   ],
   "source": []
  },
  {
   "cell_type": "markdown",
   "metadata": {
    "capter": 1,
    "cell_hash": "d52ce168610c46ca8a0b2c7e1f4044e7",
    "q_num": 32,
    "section_id": 31,
    "tags": [
     "q"
    ]
   },
   "source": [
    "#### Q:1-32\n",
    "행의 값이 0부터 4까지인 5x5인 행렬을 만드시오(a1_32)  \n",
    "(hint: np.arange)\n",
    "\n",
    "【참고】 https://docs.scipy.org/doc/numpy-1.15.0/reference/generated/numpy.arange.html"
   ]
  },
  {
   "cell_type": "code",
   "execution_count": 43,
   "metadata": {
    "capter": 1,
    "cell_hash": "aedfade9be084d1d8e1f5e93a97c0e9b",
    "q_num": 32,
    "section_id": 31,
    "tags": [
     "ya"
    ]
   },
   "outputs": [
    {
     "data": {
      "text/plain": [
       "array([[0., 1., 2., 3., 4.],\n",
       "       [0., 1., 2., 3., 4.],\n",
       "       [0., 1., 2., 3., 4.],\n",
       "       [0., 1., 2., 3., 4.],\n",
       "       [0., 1., 2., 3., 4.]])"
      ]
     },
     "execution_count": 43,
     "metadata": {},
     "output_type": "execute_result"
    }
   ],
   "source": [
    "\n",
    "a1_32"
   ]
  },
  {
   "cell_type": "markdown",
   "metadata": {
    "capter": 1,
    "cell_hash": "90f67a9a5d0c4892b7df244f9442f800",
    "q_num": 33,
    "section_id": 32,
    "tags": [
     "q"
    ]
   },
   "source": [
    "#### Q:1-33\n",
    "0부터 1까지의 10개의 등차수열을 작성하시오(a1_33)(0과 1은 미포함)  \n",
    "(hint: np.linspace)\n",
    "\n",
    "【참고】 https://docs.scipy.org/doc/numpy/reference/generated/numpy.linspace.html"
   ]
  },
  {
   "cell_type": "code",
   "execution_count": 44,
   "metadata": {
    "capter": 1,
    "cell_hash": "300081d841f44bfdaf3861ad77f781e7",
    "q_num": 33,
    "section_id": 32,
    "tags": [
     "ya"
    ]
   },
   "outputs": [
    {
     "data": {
      "text/plain": [
       "array([0.09090909, 0.18181818, 0.27272727, 0.36363636, 0.45454545,\n",
       "       0.54545455, 0.63636364, 0.72727273, 0.81818182, 0.90909091])"
      ]
     },
     "execution_count": 44,
     "metadata": {},
     "output_type": "execute_result"
    }
   ],
   "source": [
    "\n",
    "a1_33"
   ]
  },
  {
   "cell_type": "markdown",
   "metadata": {
    "capter": 1,
    "cell_hash": "19b37491a2ff4534a9ffeb920a2eb582",
    "q_num": 34,
    "section_id": 33,
    "tags": [
     "q"
    ]
   },
   "source": [
    "#### Q:1-34\n",
    "랜덤한 값을 갖는 사이즈 10의 배열을 작성하여 정렬하시오(a1_34)\n",
    "\n",
    "【참고】 https://docs.scipy.org/doc/numpy/reference/generated/numpy.sort.html"
   ]
  },
  {
   "cell_type": "code",
   "execution_count": 45,
   "metadata": {
    "capter": 1,
    "cell_hash": "82672c9261b6498c88f9c8bc35e30be0",
    "q_num": 34,
    "section_id": 33,
    "tags": [
     "ya"
    ]
   },
   "outputs": [
    {
     "data": {
      "text/plain": [
       "array([1.14374817e-04, 9.23385948e-02, 1.46755891e-01, 1.86260211e-01,\n",
       "       3.02332573e-01, 3.45560727e-01, 3.96767474e-01, 4.17022005e-01,\n",
       "       5.38816734e-01, 7.20324493e-01])"
      ]
     },
     "execution_count": 45,
     "metadata": {},
     "output_type": "execute_result"
    }
   ],
   "source": [
    "np.random.seed(1)\n",
    "\n",
    "a1_34"
   ]
  },
  {
   "cell_type": "markdown",
   "metadata": {
    "capter": 1,
    "cell_hash": "a6ebfda699604080a7b902d4ca52a5e2",
    "q_num": 35,
    "section_id": 34,
    "tags": [
     "q"
    ]
   },
   "source": [
    "#### Q:1-35\n",
    "배열(a1_35)을 이뮤터블(읽기전용)로 만드시오  \n",
    "(hint: flags.writeable)\n",
    "\n",
    "【참고】 https://docs.scipy.org/doc/numpy/reference/generated/numpy.ndarray.flags.html"
   ]
  },
  {
   "cell_type": "code",
   "execution_count": 46,
   "metadata": {
    "capter": 1,
    "cell_hash": "08e25ffd05ad4737a6c545c4d28910ec",
    "q_num": 35,
    "section_id": 34,
    "tags": [
     "ya"
    ]
   },
   "outputs": [
    {
     "ename": "ValueError",
     "evalue": "assignment destination is read-only",
     "output_type": "error",
     "traceback": [
      "\u001b[1;31m---------------------------------------------------------------------------\u001b[0m",
      "\u001b[1;31mValueError\u001b[0m                                Traceback (most recent call last)",
      "\u001b[1;32m<ipython-input-46-0002d2677036>\u001b[0m in \u001b[0;36m<module>\u001b[1;34m\u001b[0m\n\u001b[0;32m      2\u001b[0m \u001b[0ma1_35\u001b[0m\u001b[1;33m.\u001b[0m\u001b[0mflags\u001b[0m\u001b[1;33m.\u001b[0m\u001b[0mwriteable\u001b[0m \u001b[1;33m=\u001b[0m \u001b[1;32mFalse\u001b[0m\u001b[1;33m\u001b[0m\u001b[1;33m\u001b[0m\u001b[0m\n\u001b[0;32m      3\u001b[0m \u001b[1;33m\u001b[0m\u001b[0m\n\u001b[1;32m----> 4\u001b[1;33m \u001b[0ma1_35\u001b[0m\u001b[1;33m[\u001b[0m\u001b[1;36m0\u001b[0m\u001b[1;33m]\u001b[0m \u001b[1;33m=\u001b[0m \u001b[1;36m1\u001b[0m\u001b[1;33m\u001b[0m\u001b[1;33m\u001b[0m\u001b[0m\n\u001b[0m",
      "\u001b[1;31mValueError\u001b[0m: assignment destination is read-only"
     ]
    }
   ],
   "source": [
    "a1_35 = np.zeros(10)\n",
    "\n",
    "\n",
    "a1_35[0] = 1"
   ]
  },
  {
   "cell_type": "markdown",
   "metadata": {
    "capter": 1,
    "cell_hash": "e65edb7337724ed6bbc191599f85e56d",
    "q_num": 36,
    "section_id": 35,
    "tags": [
     "q"
    ]
   },
   "source": [
    "#### Q:1-36\n",
    "랜덤한 값을 갖고 사이즈가 10인 배열을 만들고 최대치를 0으로 하시오(a1_36)  \n",
    "(hint: argmax)\n",
    "\n",
    "【참고】 https://docs.scipy.org/doc/numpy/reference/generated/numpy.argmax.html"
   ]
  },
  {
   "cell_type": "code",
   "execution_count": 47,
   "metadata": {
    "capter": 1,
    "cell_hash": "36cb7cb82e264734892660c7567f9782",
    "q_num": 36,
    "section_id": 35,
    "tags": [
     "ya"
    ]
   },
   "outputs": [
    {
     "data": {
      "text/plain": [
       "array([4.17022005e-01, 0.00000000e+00, 1.14374817e-04, 3.02332573e-01,\n",
       "       1.46755891e-01, 9.23385948e-02, 1.86260211e-01, 3.45560727e-01,\n",
       "       3.96767474e-01, 5.38816734e-01])"
      ]
     },
     "execution_count": 47,
     "metadata": {},
     "output_type": "execute_result"
    }
   ],
   "source": [
    "np.random.seed(1)\n",
    "\n",
    "a1_36"
   ]
  },
  {
   "cell_type": "markdown",
   "metadata": {
    "capter": 1,
    "cell_hash": "292813b4ef4e468fa88467fd5b2e96c0",
    "q_num": 37,
    "section_id": 36,
    "tags": [
     "q"
    ]
   },
   "source": [
    "#### Q:1-37\n",
    "모든 numpy 스칼라 데이터 타입들의 최소값과 최대값을 반환하는 함수 `f1_37`를 만드시오  \n",
    "(hint: np.iinfo, np.finfo)\n",
    "\n",
    "【참고】 \n",
    "https://docs.scipy.org/doc/numpy/reference/generated/numpy.iinfo.html  \n",
    "https://docs.scipy.org/doc/numpy/reference/generated/numpy.finfo.html"
   ]
  },
  {
   "cell_type": "code",
   "execution_count": 48,
   "metadata": {
    "ExecuteTime": {
     "end_time": "2019-05-31T09:16:05.008352Z",
     "start_time": "2019-05-31T09:16:04.963473Z"
    },
    "capter": 1,
    "cell_hash": "98c298550f2d4dee98e47b8c40ad0a05",
    "q_num": 37,
    "section_id": 36,
    "tags": [
     "ya"
    ]
   },
   "outputs": [
    {
     "name": "stdout",
     "output_type": "stream",
     "text": [
      "(-128, 127)\n",
      "(-32768, 32767)\n",
      "(-2147483648, 2147483647)\n",
      "(-9223372036854775808, 9223372036854775807)\n",
      "(-65500.0, 65500.0)\n",
      "(-3.4028235e+38, 3.4028235e+38)\n",
      "(-1.7976931348623157e+308, 1.7976931348623157e+308)\n"
     ]
    }
   ],
   "source": [
    "def f1_37(dtype):\n",
    "    \"\"\"\n",
    "    Parameters\n",
    "    ----------\n",
    "    dtype : np.dtype\n",
    "           데이터 타입\n",
    "    Return\n",
    "    ----------\n",
    "    min\n",
    "        최소값\n",
    "    max\n",
    "        최대값\n",
    "    \"\"\"\n",
    "    dtype_list = [np.int8, np.int16, np.int32, np.int64, np.float16, np.float32, np.float64]\n",
    "    \n",
    "    return \n",
    "\n",
    "\n",
    "print(f1_37(np.int8))\n",
    "print(f1_37(np.int16))\n",
    "print(f1_37(np.int32))\n",
    "print(f1_37(np.int64))\n",
    "print(f1_37(np.float16))\n",
    "print(f1_37(np.float32))\n",
    "print(f1_37(np.float64))"
   ]
  },
  {
   "cell_type": "markdown",
   "metadata": {
    "capter": 1,
    "cell_hash": "7cce3dac308548b18aa59e24870e4539",
    "q_num": 38,
    "section_id": 37,
    "tags": [
     "q"
    ]
   },
   "source": [
    "#### Q:1-38\n",
    "난수 `np.random.uniform(0, 1, 10)`로 작성한 배열(a1_38)에서 0.5에 가장 가까운 값을 추출하시오(b1_38)  \n",
    "(hint: np.abs, argmin, flat)\n",
    "\n",
    "【참고】 \n",
    "https://docs.scipy.org/doc/numpy-1.15.1/reference/generated/numpy.ndarray.flat.html  \n",
    "https://docs.scipy.org/doc/numpy-1.15.1/reference/generated/numpy.absolute.html  \n",
    "https://docs.scipy.org/doc/numpy/reference/generated/numpy.argmin.html"
   ]
  },
  {
   "cell_type": "code",
   "execution_count": 49,
   "metadata": {
    "capter": 1,
    "cell_hash": "5f35a4e870df40bb891ba2a2d48ba2ae",
    "q_num": 38,
    "section_id": 37,
    "tags": [
     "ya"
    ]
   },
   "outputs": [
    {
     "name": "stdout",
     "output_type": "stream",
     "text": [
      "0.538816734003357\n"
     ]
    }
   ],
   "source": [
    "np.random.seed(1)\n",
    "a1_38 = \n",
    "b1_38 = \n",
    "print(b1_38)"
   ]
  },
  {
   "cell_type": "markdown",
   "metadata": {
    "capter": 1,
    "cell_hash": "6fd538bebe7e4de1aec1ae37f3299a39",
    "q_num": 39,
    "section_id": 38,
    "tags": [
     "q"
    ]
   },
   "source": [
    "#### Q:1-39\n",
    "0부터 10까지의 float (32 bits)의 배열을 int(32 bits)로 변환하시오(a1_39)  \n",
    "(hint: astype(copy=False))\n",
    "\n",
    "【참고】 https://docs.scipy.org/doc/numpy-1.16.0/reference/generated/numpy.ndarray.astype.html"
   ]
  },
  {
   "cell_type": "code",
   "execution_count": 50,
   "metadata": {
    "capter": 1,
    "cell_hash": "58679f1e90d2416bb1a64071b35fa9fe",
    "q_num": 39,
    "section_id": 38,
    "tags": [
     "ya"
    ]
   },
   "outputs": [
    {
     "data": {
      "text/plain": [
       "array([0, 1, 2, 3, 4, 5, 6, 7, 8, 9])"
      ]
     },
     "execution_count": 50,
     "metadata": {},
     "output_type": "execute_result"
    }
   ],
   "source": [
    "a1_39"
   ]
  },
  {
   "cell_type": "markdown",
   "metadata": {
    "capter": 1,
    "cell_hash": "d07d3e1a51bd49a29ac163388eaf76cb",
    "q_num": 40,
    "section_id": 39,
    "tags": [
     "q"
    ]
   },
   "source": [
    "#### Q:1-40\n",
    "행렬(a1_40)의 모든 요서에 대해 각 행의 평균값을 빼시오(b1_40)\n",
    "```python\n",
    "a1_40 = np.random.rand(5, 10)\n",
    "```\n",
    "(hint: mean(axis=,keepdims=))\n",
    "\n",
    "【참고】 https://docs.scipy.org/doc/numpy/reference/generated/numpy.mean.html"
   ]
  },
  {
   "cell_type": "code",
   "execution_count": 51,
   "metadata": {
    "capter": 1,
    "cell_hash": "be661a034abc4f21aa040273879cff01",
    "q_num": 40,
    "section_id": 39,
    "tags": [
     "ya"
    ]
   },
   "outputs": [
    {
     "data": {
      "text/plain": [
       "array([[ 0.1023927 ,  0.40569519, -0.31451493, -0.01229674, -0.16787342,\n",
       "        -0.22229071, -0.1283691 ,  0.03093142,  0.08213817,  0.22418743],\n",
       "       [-0.00073767,  0.26528731, -0.21547994,  0.45818525, -0.39254459,\n",
       "         0.25053532, -0.00262738,  0.13875764, -0.27954525, -0.2218307 ],\n",
       "       [ 0.2289625 ,  0.39647951, -0.25835789,  0.12054055,  0.30460709,\n",
       "         0.3228246 , -0.48673786, -0.53272728, -0.40195165,  0.30636044],\n",
       "       [-0.43239929, -0.1096385 ,  0.42714341,  0.00241916,  0.16113099,\n",
       "        -0.21523049,  0.15575481,  0.30387955, -0.51245784,  0.21939819],\n",
       "       [ 0.49107277,  0.25037734, -0.21734432,  0.29149101, -0.39456231,\n",
       "        -0.04989479,  0.41080719, -0.20417417, -0.21001298, -0.36775974]])"
      ]
     },
     "execution_count": 51,
     "metadata": {},
     "output_type": "execute_result"
    }
   ],
   "source": [
    "np.random.seed(1)\n",
    "a1_40 = np.random.rand(5, 10)\n",
    "\n",
    "b1_40 = \n",
    "b1_40"
   ]
  },
  {
   "cell_type": "markdown",
   "metadata": {
    "capter": 1,
    "cell_hash": "2fff1ff708de433c8b16ecaa869fde25",
    "q_num": 41,
    "section_id": 40,
    "tags": [
     "q"
    ]
   },
   "source": [
    "#### Q:1-41\n",
    "2차원 배열에 빈 열이 있는 경우는 True, 없는 경우는 False를 반환하는 함수(f1_41)를 만드시오  \n",
    "(hint: any, ~)\n",
    "\n",
    "【참고】 https://docs.scipy.org/doc/numpy/reference/generated/numpy.any.html"
   ]
  },
  {
   "cell_type": "code",
   "execution_count": 52,
   "metadata": {
    "capter": 1,
    "cell_hash": "71087b3e4df346fba35f0d0b12cdf2c1",
    "q_num": 41,
    "section_id": 40,
    "tags": [
     "ya"
    ]
   },
   "outputs": [
    {
     "name": "stdout",
     "output_type": "stream",
     "text": [
      "[[0 1 0]\n",
      " [1 0 0]\n",
      " [1 0 0]]\n",
      "True\n",
      "[[0 1 0]\n",
      " [0 0 0]\n",
      " [1 0 1]]\n",
      "False\n"
     ]
    }
   ],
   "source": [
    "def f1_41(data):\n",
    "    \"\"\"\n",
    "    빈 열이 있는지 아닌지 판단하는 메서드\n",
    "    Parameters\n",
    "    -----------\n",
    "    data : np.ndarray\n",
    "        numpy의 2차원행렬\n",
    "    \n",
    "    Return\n",
    "    -----------\n",
    "    bool\n",
    "        True : 빈 열이 있음\n",
    "        False : 빈 열이 없음\n",
    "    \"\"\"\n",
    "    \n",
    "    return \n",
    "    \n",
    "\n",
    "a1_41 = np.array([[0, 1, 0], [1, 0, 0], [1, 0, 0]])\n",
    "b1_41 = np.array([[0, 1, 0], [0, 0, 0], [1, 0, 1]])\n",
    "\n",
    "print(a1_41)\n",
    "print(f1_41(a1_41))\n",
    "print(b1_41)\n",
    "print(f1_41(b1_41))"
   ]
  }
 ],
 "metadata": {
  "dokushu": "anser",
  "kernelspec": {
   "display_name": "Python 3",
   "language": "python",
   "name": "python3"
  },
  "language_info": {
   "codemirror_mode": {
    "name": "ipython",
    "version": 3
   },
   "file_extension": ".py",
   "mimetype": "text/x-python",
   "name": "python",
   "nbconvert_exporter": "python",
   "pygments_lexer": "ipython3",
   "version": "3.8.5"
  }
 },
 "nbformat": 4,
 "nbformat_minor": 4
}
